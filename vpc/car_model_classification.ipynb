{
 "cells": [
  {
   "cell_type": "code",
   "execution_count": 1,
   "metadata": {},
   "outputs": [],
   "source": [
    "# !nvidia-smi"
   ]
  },
  {
   "cell_type": "code",
   "execution_count": 1,
   "metadata": {},
   "outputs": [],
   "source": [
    "import numpy as np\n",
    "import matplotlib.pyplot as plt\n",
    "import torch\n",
    "from datasets import load_dataset, DatasetDict\n",
    "from einops import rearrange, einsum\n",
    "\n",
    "import torch.nn as nn\n",
    "from torch.utils.data import DataLoader, Dataset, TensorDataset\n",
    "import torchvision.models as models\n",
    "from torchvision.models import resnet18\n",
    "from torchvision import transforms"
   ]
  },
  {
   "cell_type": "code",
   "execution_count": 2,
   "metadata": {},
   "outputs": [],
   "source": [
    "# internal_model = models.resnet18\n",
    "# internal_weights = models.ResNet18_Weights.IMAGENET1K_V1\n",
    "\n",
    "internal_model = models.resnet34\n",
    "internal_weights = models.ResNet34_Weights.IMAGENET1K_V1\n",
    "\n",
    "# internal_model = models.resnet50\n",
    "# internal_weights = models.ResNet50_Weights.IMAGENET1K_V1\n",
    "\n",
    "device = torch.device(\"cuda\" if torch.cuda.is_available() else \"cpu\")"
   ]
  },
  {
   "cell_type": "code",
   "execution_count": 3,
   "metadata": {},
   "outputs": [
    {
     "name": "stdout",
     "output_type": "stream",
     "text": [
      "X_train shape:\t (791, 250, 250, 3)\n",
      "Y_train shape\t (791,)\n",
      "X_test shape\t (784, 250, 250, 3)\n",
      "Y_test shape\t (784,)\n"
     ]
    }
   ],
   "source": [
    "# Load images\n",
    "x_train = np.load('x_train.npy')\n",
    "x_test = np.load('x_test.npy')\n",
    "\n",
    "y_train = np.load('y_train.npy')\n",
    "y_test = np.load('y_test.npy')\n",
    "\n",
    "## View some images\n",
    "# plt.imshow(x_train[2,:,:,: ] )\n",
    "# plt.axis('off')\n",
    "# plt.show()\n",
    "\n",
    "# # convert to torch\n",
    "# x_train = torch.from_numpy(x_train)\n",
    "# x_test = torch.from_numpy(x_test)\n",
    "\n",
    "# y_train = torch.from_numpy(y_train)\n",
    "# y_test = torch.from_numpy(y_test)\n",
    "\n",
    "print('X_train shape:\\t' ,x_train.shape)\n",
    "print('Y_train shape\\t' ,y_train.shape)\n",
    "\n",
    "print('X_test shape\\t' ,x_test.shape)\n",
    "print('Y_test shape\\t' ,y_test.shape)\n",
    "\n",
    "train_cut = 300\n",
    "x_train = x_train[:train_cut]\n",
    "y_train = y_train[:train_cut]\n",
    "\n",
    "test_cut = 100\n",
    "x_test = x_test[:test_cut]\n",
    "y_test = y_test[:test_cut]\n",
    "\n",
    "# print('X_train shape:\\t' ,x_train.shape)\n",
    "# print('X_train dtype:\\t' ,x_train.dtype)\n",
    "# print('X_train type:\\t' ,type(x_train))\n"
   ]
  },
  {
   "cell_type": "code",
   "execution_count": null,
   "metadata": {},
   "outputs": [],
   "source": []
  },
  {
   "cell_type": "code",
   "execution_count": 4,
   "metadata": {},
   "outputs": [
    {
     "name": "stdout",
     "output_type": "stream",
     "text": [
      "Transforms:\n",
      " ImageClassification(\n",
      "    crop_size=[224]\n",
      "    resize_size=[256]\n",
      "    mean=[0.485, 0.456, 0.406]\n",
      "    std=[0.229, 0.224, 0.225]\n",
      "    interpolation=InterpolationMode.BILINEAR\n",
      ")\n"
     ]
    }
   ],
   "source": [
    "transform_fn = internal_weights.transforms()\n",
    "convert_to_tensor = transforms.ToTensor()\n",
    "\n",
    "print('Transforms:\\n', transform_fn)\n",
    "\n",
    "def process_image(image):\n",
    "    image = convert_to_tensor(image)\n",
    "    # image = rearrange(image, 'h w c -> c h w')\n",
    "    image = transform_fn(image)\n",
    "    return image\n",
    "\n",
    "# transform images\n",
    "x_train_transformed = list(map(process_image, x_train))\n",
    "x_test_transformed = list(map(process_image, x_test))\n",
    "\n",
    "# stack images\n",
    "x_train_tensor = torch.stack(x_train_transformed) #.to(device)\n",
    "x_test_tensor = torch.stack(x_test_transformed) #.to(device)\n",
    "\n",
    "# convert labels to tensor\n",
    "y_train_tensor = torch.tensor(y_train) #.to(device)\n",
    "y_test_tensor = torch.tensor(y_test) #.to(device)\n",
    "\n",
    "# add dimension to labels\n",
    "# y_train_tensor = y_train_tensor.unsqueeze(1)\n",
    "# y_test_tensor = y_test_tensor.unsqueeze(1)\n",
    "\n",
    "# TensorDataset\n",
    "train_data = TensorDataset(x_train_tensor, y_train_tensor)\n",
    "test_data = TensorDataset(x_test_tensor, y_test_tensor)\n",
    "\n",
    "# DataLoader\n",
    "batch_size = 32\n",
    "train_loader = DataLoader(train_data, batch_size=batch_size, shuffle=True)\n",
    "test_loader = DataLoader(test_data, batch_size=batch_size, shuffle=False)\n"
   ]
  },
  {
   "cell_type": "code",
   "execution_count": 5,
   "metadata": {},
   "outputs": [
    {
     "name": "stdout",
     "output_type": "stream",
     "text": [
      "Sample shape: torch.Size([32, 3, 224, 224])\n",
      "Label shape: torch.Size([32])\n"
     ]
    }
   ],
   "source": [
    "sample, label = next(iter(train_loader))\n",
    "print('Sample shape:', sample.shape)\n",
    "print('Label shape:', label.shape)"
   ]
  },
  {
   "cell_type": "markdown",
   "metadata": {},
   "source": [
    "### Model"
   ]
  },
  {
   "cell_type": "code",
   "execution_count": 7,
   "metadata": {},
   "outputs": [
    {
     "data": {
      "text/plain": [
       "torch.Size([1, 20])"
      ]
     },
     "execution_count": 7,
     "metadata": {},
     "output_type": "execute_result"
    }
   ],
   "source": [
    "class BiLinearModel(nn.Module):\n",
    "    def __init__(self, num_classes):\n",
    "        super(BiLinearModel, self).__init__()\n",
    "        \n",
    "        self.cnn1 = internal_model(weights=internal_weights)\n",
    "        self.cnn2 = internal_model(weights=internal_weights)\n",
    "        \n",
    "\n",
    "        self.cnn1 = nn.Sequential(*list(self.cnn1.children())[:-2])\n",
    "        self.cnn2 = nn.Sequential(*list(self.cnn2.children())[:-2])\n",
    "\n",
    "        self.feature_size = internal_model(weights=internal_weights).fc.in_features\n",
    "        # print('Feature size:', self.feature_size)\n",
    "\n",
    "        # Define bilinear pooling\n",
    "        self.fc = nn.Linear(self.feature_size**2, num_classes) \n",
    "        # nn.Sequential(\n",
    "        #     nn.Linear(512*512, 512),\n",
    "        #     nn.ReLU(),\n",
    "        #     nn.Linear(512, num_classes)\n",
    "        # )\n",
    "    \n",
    "    def forward(self, x):\n",
    "        x1 = self.cnn1(x)\n",
    "        x2 = self.cnn2(x)\n",
    "        \n",
    "        # # Bilinear pooling\n",
    "        # batch_size = x1.size(0)\n",
    "        # x1 = x1.view(batch_size, 512, 49)\n",
    "        # x2 = x2.view(batch_size, 512, 49)\n",
    "        # x = torch.bmm(x1, x2.transpose(1, 2)) / 49\n",
    "        # x = x.view(batch_size, 512*512)\n",
    "        # print('X1 shape:', x1.shape)\n",
    "        \n",
    "        # bilinear pooling with einops\n",
    "        x1 = rearrange(x1, 'b k h w -> b k (h w)')\n",
    "        x2 = rearrange(x2, 'b k h w -> b k (h w)')\n",
    "        x = einsum(x1, x2, 'b i j, b k j -> b i k')\n",
    "        # print('X shape:', x.shape)\n",
    "        x = rearrange(x, 'b i j -> b (i j)')\n",
    "        # print('X shape:', x.shape)\n",
    "\n",
    "        x = self.fc(x)\n",
    "        return x\n",
    "\n",
    "model = BiLinearModel(num_classes=20).to(device)\n",
    "\n",
    "in_tensor = torch.randn(1, 3, 224, 224).to(device)\n",
    "model(in_tensor).shape\n"
   ]
  },
  {
   "cell_type": "code",
   "execution_count": null,
   "metadata": {},
   "outputs": [],
   "source": []
  },
  {
   "cell_type": "code",
   "execution_count": 8,
   "metadata": {},
   "outputs": [
    {
     "name": "stderr",
     "output_type": "stream",
     "text": [
      "Epoch 1/10:   0%|          | 0/10 [00:00<?, ?it/s]"
     ]
    },
    {
     "name": "stderr",
     "output_type": "stream",
     "text": [
      "Epoch 1/10: 100%|██████████| 10/10 [00:02<00:00,  3.90it/s, accuracy=0.417, loss=2.66e+5]\n"
     ]
    },
    {
     "name": "stdout",
     "output_type": "stream",
     "text": [
      "Epoch 1/10 loss: 266064.7557\n"
     ]
    },
    {
     "name": "stderr",
     "output_type": "stream",
     "text": [
      "Epoch 2/10: 100%|██████████| 10/10 [00:02<00:00,  4.49it/s, accuracy=0.667, loss=1.59e+5]\n"
     ]
    },
    {
     "name": "stdout",
     "output_type": "stream",
     "text": [
      "Epoch 2/10 loss: 159159.8666\n"
     ]
    },
    {
     "name": "stderr",
     "output_type": "stream",
     "text": [
      "Epoch 3/10: 100%|██████████| 10/10 [00:02<00:00,  4.49it/s, accuracy=0.917, loss=4.71e+4]\n"
     ]
    },
    {
     "name": "stdout",
     "output_type": "stream",
     "text": [
      "Epoch 3/10 loss: 47141.9481\n"
     ]
    },
    {
     "name": "stderr",
     "output_type": "stream",
     "text": [
      "Epoch 4/10:  50%|█████     | 5/10 [00:00<00:00,  5.66it/s, accuracy=1, loss=1.26e+4]    "
     ]
    }
   ],
   "source": [
    "import torch.optim as optim\n",
    "from torch.optim import lr_scheduler\n",
    "from tqdm import tqdm \n",
    "\n",
    "# Freeze the weights of the pre-trained models\n",
    "for param in model.cnn1.parameters():\n",
    "    param.requires_grad = False\n",
    "for param in model.cnn2.parameters():\n",
    "    param.requires_grad = False\n",
    "\n",
    "# Define loss function and optimizer\n",
    "criterion = nn.CrossEntropyLoss()\n",
    "optimizer = optim.SGD(model.fc.parameters(), lr=0.001, momentum=0.9)\n",
    "scheduler = lr_scheduler.StepLR(optimizer, step_size=7, gamma=0.1)\n",
    "\n",
    "# Training function\n",
    "def train_model(model, criterion, optimizer, scheduler, num_epochs=25):\n",
    "    model.train()\n",
    "    for epoch in range(num_epochs):\n",
    "        running_loss = 0.0\n",
    "        with tqdm(total=len(train_loader), desc=f\"Epoch {epoch+1}/{num_epochs}\") as pbar:\n",
    "            for sample in train_loader:\n",
    "                image, label = sample\n",
    "                image, label = image.to(device), label.to(device)\n",
    "                optimizer.zero_grad()\n",
    "                outputs = model(image)\n",
    "                loss = criterion(outputs, label)\n",
    "                loss.backward()\n",
    "                optimizer.step()\n",
    "                # update progress bar\n",
    "                running_loss += loss.item()*image.size(0)\n",
    "\n",
    "                # accuracy\n",
    "                _, preds = torch.max(outputs, 1)\n",
    "                corrects = torch.sum(preds == label.data)\n",
    "                accuracy = corrects.double() / image.size(0)\n",
    "                \n",
    "                pbar.set_postfix(loss=running_loss/len(train_loader.dataset), accuracy=accuracy.item())\n",
    "                pbar.update(1)\n",
    "            \n",
    "            # validation loss\n",
    "            model.eval()\n",
    "            with torch.no_grad():\n",
    "                val_loss = 0.0\n",
    "                for sample in test_loader:\n",
    "                    image, label = sample\n",
    "                    image, label = image.to(device), label.to(device)\n",
    "                    outputs = model(image)\n",
    "                    loss = criterion(outputs, label)\n",
    "                    val_loss += loss.item()*image.size(0)\n",
    "            scheduler.step()\n",
    "            epoch_loss = running_loss / len(train_loader.dataset)\n",
    "            print(f\"Epoch {epoch+1}/{num_epochs} loss: {epoch_loss:.4f}\")\n",
    "\n",
    "    return model\n",
    "\n",
    "# Train the model\n",
    "model = train_model(model, criterion, optimizer, scheduler, num_epochs=10)\n",
    "\n",
    "# Unfreeze the weights and train again\n",
    "for param in model.cnn1.parameters():\n",
    "    param.requires_grad = True\n",
    "for param in model.cnn2.parameters():\n",
    "    param.requires_grad = True\n",
    "\n",
    "optimizer = optim.SGD(model.parameters(), lr=0.0001, momentum=0.9)\n",
    "scheduler = lr_scheduler.StepLR(optimizer, step_size=7, gamma=0.1)\n",
    "\n",
    "# Train the model again\n",
    "model = train_model(model, criterion, optimizer, scheduler, num_epochs=15)\n"
   ]
  },
  {
   "cell_type": "code",
   "execution_count": null,
   "metadata": {},
   "outputs": [],
   "source": []
  },
  {
   "cell_type": "code",
   "execution_count": null,
   "metadata": {},
   "outputs": [],
   "source": []
  },
  {
   "cell_type": "code",
   "execution_count": null,
   "metadata": {},
   "outputs": [],
   "source": [
    "# bilinear pooling with einops\n",
    "# x1 = rearrange(x1, 'b k h w -> b k (h w)')\n",
    "# x2 = rearrange(x2, 'b k h w -> b k (h w)')\n",
    "# x = einsum('b i j, b k j -> b i k', x1, x2)\n"
   ]
  },
  {
   "cell_type": "code",
   "execution_count": null,
   "metadata": {},
   "outputs": [],
   "source": []
  }
 ],
 "metadata": {
  "kernelspec": {
   "display_name": "ai",
   "language": "python",
   "name": "python3"
  },
  "language_info": {
   "codemirror_mode": {
    "name": "ipython",
    "version": 3
   },
   "file_extension": ".py",
   "mimetype": "text/x-python",
   "name": "python",
   "nbconvert_exporter": "python",
   "pygments_lexer": "ipython3",
   "version": "3.9.7"
  }
 },
 "nbformat": 4,
 "nbformat_minor": 2
}

{
 "cells": [
  {
   "cell_type": "code",
   "execution_count": 1,
   "metadata": {},
   "outputs": [],
   "source": [
    "# !nvidia-smi"
   ]
  },
  {
   "cell_type": "code",
   "execution_count": 2,
   "metadata": {},
   "outputs": [],
   "source": [
    "import numpy as np\n",
    "import matplotlib.pyplot as plt\n",
    "import torch\n",
    "from datasets import load_dataset, DatasetDict\n",
    "from einops import rearrange, einsum\n",
    "\n",
    "import torch.nn as nn\n",
    "from torch.utils.data import DataLoader, Dataset, TensorDataset\n",
    "import torchvision.models as models\n",
    "from torchvision.models import resnet18\n",
    "from torchvision import transforms\n",
    "\n",
    "from sklearn.model_selection import train_test_split"
   ]
  },
  {
   "cell_type": "code",
   "execution_count": 3,
   "metadata": {},
   "outputs": [
    {
     "name": "stdout",
     "output_type": "stream",
     "text": [
      "{'batch_size': 16,\n",
      " 'cnn_dropout': 0.0,\n",
      " 'feat_dropout': 0.5,\n",
      " 'freeze_weights': {'epochs': 15, 'lr': 1e-07, 'step_lr': 5},\n",
      " 'unfreeze_weights': {'epochs': 40, 'lr': 1e-08, 'step_lr': 20}}\n"
     ]
    }
   ],
   "source": [
    "import yaml\n",
    "import os\n",
    "from pprint import pprint\n",
    "from pathlib import Path\n",
    "\n",
    "def load_and_pretty_print_yaml(file_path):\n",
    "    with open(file_path, 'r') as file:\n",
    "        data = yaml.safe_load(file)\n",
    "    return data\n",
    "\n",
    "current_file_dir = Path(os.getcwd()).resolve()\n",
    "config = load_and_pretty_print_yaml(current_file_dir / 'config.yaml')\n",
    "\n",
    "\n",
    "BATCH_SIZE = config['batch_size']\n",
    "CNN_DROPOUT = config['cnn_dropout']\n",
    "FEAT_DROPOUT = config['feat_dropout']\n",
    "FREEZE_CONFIG = config['freeze_weights']\n",
    "FREEZE_CONFIG['lr'] = float(FREEZE_CONFIG['lr'])\n",
    "UNFREEZE_CONFIG = config['unfreeze_weights']\n",
    "UNFREEZE_CONFIG['lr'] = float(UNFREEZE_CONFIG['lr'])\n",
    "\n",
    "pprint(config)"
   ]
  },
  {
   "cell_type": "code",
   "execution_count": 4,
   "metadata": {},
   "outputs": [],
   "source": [
    "# internal_model = models.resnet18\n",
    "# internal_weights = models.ResNet18_Weights.IMAGENET1K_V1\n",
    "\n",
    "# internal_model = models.resnet34\n",
    "# internal_weights = models.ResNet34_Weights.IMAGENET1K_V1\n",
    "\n",
    "internal_model = models.resnet50\n",
    "internal_weights = models.ResNet50_Weights.IMAGENET1K_V1\n",
    "\n",
    "device = torch.device(\"cuda\" if torch.cuda.is_available() else \"cpu\")"
   ]
  },
  {
   "cell_type": "code",
   "execution_count": 5,
   "metadata": {},
   "outputs": [],
   "source": [
    "# Load images\n",
    "x_train = np.load('x_train.npy')\n",
    "x_test = np.load('x_test.npy')\n",
    "\n",
    "y_train = np.load('y_train.npy')\n",
    "y_test = np.load('y_test.npy')\n"
   ]
  },
  {
   "cell_type": "code",
   "execution_count": null,
   "metadata": {},
   "outputs": [],
   "source": []
  },
  {
   "cell_type": "code",
   "execution_count": 10,
   "metadata": {},
   "outputs": [
    {
     "name": "stdout",
     "output_type": "stream",
     "text": [
      "Train: torch.Size([791, 3, 224, 224]) torch.Size([791])\n",
      "Val: torch.Size([313, 3, 224, 224]) torch.Size([313])\n",
      "Test: torch.Size([471, 3, 224, 224]) torch.Size([471])\n"
     ]
    }
   ],
   "source": [
    "transform_fn = internal_weights.transforms()\n",
    "convert_to_tensor = transforms.ToTensor()\n",
    "\n",
    "# print('Transforms:\\n', transform_fn)\n",
    "\n",
    "def process_image(image):\n",
    "    image = convert_to_tensor(image)\n",
    "    # image = rearrange(image, 'h w c -> c h w')\n",
    "    image = transform_fn(image)\n",
    "    return image\n",
    "\n",
    "# transform images\n",
    "x_train_transformed = list(map(process_image, x_train))\n",
    "x_test_transformed = list(map(process_image, x_test))\n",
    "\n",
    "# stack images\n",
    "x_train_tensor = torch.stack(x_train_transformed) #.to(device)\n",
    "x_test_tensor = torch.stack(x_test_transformed) #.to(device)\n",
    "\n",
    "# convert labels to tensor\n",
    "y_train_tensor = torch.tensor(y_train) #.to(device)\n",
    "y_test_tensor = torch.tensor(y_test) #.to(device)\n",
    "\n",
    "y_train_tensor = y_train_tensor - 1\n",
    "y_test_tensor = y_test_tensor - 1\n",
    "\n",
    "# split test set into validation and test\n",
    "x_val_tensor, x_test_tensor, y_val_tensor, y_test_tensor = train_test_split(x_test_tensor, y_test_tensor, test_size=0.6)\n",
    "# print('Train:', x_train_tensor.shape, y_train_tensor.shape)\n",
    "# print('Val:', x_val_tensor.shape, y_val_tensor.shape)\n",
    "# print('Test:', x_test_tensor.shape, y_test_tensor.shape)\n",
    "\n",
    "# TensorDataset\n",
    "train_data = TensorDataset(x_train_tensor, y_train_tensor)\n",
    "val_data = TensorDataset(x_val_tensor, y_val_tensor)\n",
    "test_data = TensorDataset(x_test_tensor, y_test_tensor)\n",
    "\n",
    "# DataLoader\n",
    "batch_size = BATCH_SIZE\n",
    "train_loader = DataLoader(train_data, batch_size=batch_size, shuffle=True, drop_last=True)\n",
    "val_loader = DataLoader(val_data, batch_size=batch_size, shuffle=False, drop_last=True)\n",
    "test_loader = DataLoader(test_data, batch_size=batch_size, shuffle=False, drop_last=True)\n"
   ]
  },
  {
   "cell_type": "markdown",
   "metadata": {},
   "source": [
    "### Model"
   ]
  },
  {
   "cell_type": "code",
   "execution_count": 21,
   "metadata": {},
   "outputs": [
    {
     "data": {
      "text/plain": [
       "torch.Size([1, 20])"
      ]
     },
     "execution_count": 21,
     "metadata": {},
     "output_type": "execute_result"
    }
   ],
   "source": [
    "class BiLinearModel(nn.Module):\n",
    "    def __init__(self, num_classes, internal_model=models.resnet50, internal_weights=models.ResNet50_Weights.IMAGENET1K_V1, cnn_dropout=0.0, feat_dropout=0.0):\n",
    "        super(BiLinearModel, self).__init__()\n",
    "        \n",
    "        # Load internal model\n",
    "        self.cnn1 = internal_model(weights=internal_weights)\n",
    "        self.cnn2 = internal_model(weights=internal_weights)\n",
    "        self.feature_size = self.cnn1.fc.in_features\n",
    "        # print('Feature size:', self.feature_size)\n",
    "        \n",
    "        # remove last layers\n",
    "        self.cnn1 = nn.Sequential(*list(self.cnn1.children())[:-2])\n",
    "        self.cnn2 = nn.Sequential(*list(self.cnn2.children())[:-2])\n",
    "\n",
    "        # add batchnorm\n",
    "        # self.cnn1.add_module('BatchNorm', nn.BatchNorm2d(self.feature_size))\n",
    "        # self.cnn2.add_module('BatchNorm', nn.BatchNorm2d(self.feature_size))\n",
    "\n",
    "\n",
    "        # add dropout\n",
    "        self.dropout1 = nn.Dropout(cnn_dropout)\n",
    "        self.dropout2 = nn.Dropout(cnn_dropout)\n",
    "\n",
    "        self.dropout_features = nn.Dropout(feat_dropout)\n",
    "\n",
    "        # Define bilinear pooling\n",
    "        self.fc = nn.Linear(self.feature_size**2, num_classes)\n",
    "        # self.fc = nn.Sequential(\n",
    "        #     nn.Linear(self.feature_size**2, self.feature_size),\n",
    "        #     nn.ReLU(),\n",
    "        #     nn.Linear(self.feature_size, num_classes)\n",
    "        # )\n",
    "    \n",
    "    def forward(self, x):\n",
    "        x1 = self.cnn1(x)\n",
    "        x2 = self.cnn2(x)\n",
    "        \n",
    "        # bilinear pooling with einops\n",
    "        x1 = rearrange(x1, 'b k h w -> b k (h w)')\n",
    "        x2 = rearrange(x2, 'b k h w -> b k (h w)')\n",
    "\n",
    "        # dropouts\n",
    "        x1 = self.dropout1(x1)\n",
    "        x2 = self.dropout2(x2)\n",
    "\n",
    "        x = einsum(x1, x2, 'b i j, b k j -> b i k')\n",
    "        x = rearrange(x, 'b i j -> b (i j)')\n",
    "        x = self.dropout_features(x)\n",
    "\n",
    "        x = self.fc(x)\n",
    "        return x\n",
    "\n",
    "model = BiLinearModel(num_classes=20, internal_model=internal_model, internal_weights=internal_weights, cnn_dropout=CNN_DROPOUT, feat_dropout=FEAT_DROPOUT)\n",
    "model = model.to(device)\n",
    "\n",
    "in_tensor = torch.randn(1, 3, 224, 224).to(device)\n",
    "model(in_tensor).shape\n",
    "\n"
   ]
  },
  {
   "cell_type": "code",
   "execution_count": null,
   "metadata": {},
   "outputs": [],
   "source": []
  },
  {
   "cell_type": "code",
   "execution_count": 8,
   "metadata": {},
   "outputs": [
    {
     "name": "stderr",
     "output_type": "stream",
     "text": [
      "Epoch 1/20:   0%|          | 0/19 [00:00<?, ?it/s]"
     ]
    },
    {
     "name": "stderr",
     "output_type": "stream",
     "text": [
      "Epoch 1/20: 100%|██████████| 19/19 [00:03<00:00,  5.34it/s, accuracy=0.344, loss=3.62e+3] \n"
     ]
    },
    {
     "name": "stdout",
     "output_type": "stream",
     "text": [
      "Epoch 1/20: Validation accuracy: 0.2265625\n"
     ]
    },
    {
     "name": "stderr",
     "output_type": "stream",
     "text": [
      "Epoch 2/20: 100%|██████████| 19/19 [00:03<00:00,  5.47it/s, accuracy=0.5, loss=1.59e+3]  \n"
     ]
    },
    {
     "name": "stdout",
     "output_type": "stream",
     "text": [
      "Epoch 2/20: Validation accuracy: 0.375\n"
     ]
    },
    {
     "name": "stderr",
     "output_type": "stream",
     "text": [
      "Epoch 3/20: 100%|██████████| 19/19 [00:03<00:00,  5.45it/s, accuracy=0.75, loss=640] \n"
     ]
    },
    {
     "name": "stdout",
     "output_type": "stream",
     "text": [
      "Epoch 3/20: Validation accuracy: 0.3828125\n"
     ]
    },
    {
     "name": "stderr",
     "output_type": "stream",
     "text": [
      "Epoch 4/20: 100%|██████████| 19/19 [00:03<00:00,  5.42it/s, accuracy=0.875, loss=341]\n"
     ]
    },
    {
     "name": "stdout",
     "output_type": "stream",
     "text": [
      "Epoch 4/20: Validation accuracy: 0.375\n"
     ]
    },
    {
     "name": "stderr",
     "output_type": "stream",
     "text": [
      "Epoch 5/20: 100%|██████████| 19/19 [00:03<00:00,  5.45it/s, accuracy=0.906, loss=200] \n"
     ]
    },
    {
     "name": "stdout",
     "output_type": "stream",
     "text": [
      "Epoch 5/20: Validation accuracy: 0.40625\n"
     ]
    },
    {
     "name": "stderr",
     "output_type": "stream",
     "text": [
      "Epoch 6/20: 100%|██████████| 19/19 [00:03<00:00,  5.38it/s, accuracy=0.906, loss=187]\n"
     ]
    },
    {
     "name": "stdout",
     "output_type": "stream",
     "text": [
      "Epoch 6/20: Validation accuracy: 0.4375\n"
     ]
    },
    {
     "name": "stderr",
     "output_type": "stream",
     "text": [
      "Epoch 7/20: 100%|██████████| 19/19 [00:03<00:00,  5.42it/s, accuracy=0.906, loss=89.4]\n"
     ]
    },
    {
     "name": "stdout",
     "output_type": "stream",
     "text": [
      "Epoch 7/20: Validation accuracy: 0.4296875\n"
     ]
    },
    {
     "name": "stderr",
     "output_type": "stream",
     "text": [
      "Epoch 8/20: 100%|██████████| 19/19 [00:03<00:00,  5.42it/s, accuracy=0.969, loss=61.3]\n"
     ]
    },
    {
     "name": "stdout",
     "output_type": "stream",
     "text": [
      "Epoch 8/20: Validation accuracy: 0.4453125\n"
     ]
    },
    {
     "name": "stderr",
     "output_type": "stream",
     "text": [
      "Epoch 9/20: 100%|██████████| 19/19 [00:03<00:00,  5.41it/s, accuracy=0.938, loss=50.4]\n"
     ]
    },
    {
     "name": "stdout",
     "output_type": "stream",
     "text": [
      "Epoch 9/20: Validation accuracy: 0.4609375\n"
     ]
    },
    {
     "name": "stderr",
     "output_type": "stream",
     "text": [
      "Epoch 10/20: 100%|██████████| 19/19 [00:03<00:00,  5.42it/s, accuracy=0.969, loss=72.6]\n"
     ]
    },
    {
     "name": "stdout",
     "output_type": "stream",
     "text": [
      "Epoch 10/20: Validation accuracy: 0.4296875\n"
     ]
    },
    {
     "name": "stderr",
     "output_type": "stream",
     "text": [
      "Epoch 11/20: 100%|██████████| 19/19 [00:03<00:00,  5.42it/s, accuracy=1, loss=15.4]    \n"
     ]
    },
    {
     "name": "stdout",
     "output_type": "stream",
     "text": [
      "Epoch 11/20: Validation accuracy: 0.453125\n"
     ]
    },
    {
     "name": "stderr",
     "output_type": "stream",
     "text": [
      "Epoch 12/20: 100%|██████████| 19/19 [00:03<00:00,  5.47it/s, accuracy=0.969, loss=16.4]\n"
     ]
    },
    {
     "name": "stdout",
     "output_type": "stream",
     "text": [
      "Epoch 12/20: Validation accuracy: 0.4609375\n"
     ]
    },
    {
     "name": "stderr",
     "output_type": "stream",
     "text": [
      "Epoch 13/20: 100%|██████████| 19/19 [00:03<00:00,  5.45it/s, accuracy=1, loss=18.2]    \n"
     ]
    },
    {
     "name": "stdout",
     "output_type": "stream",
     "text": [
      "Epoch 13/20: Validation accuracy: 0.453125\n"
     ]
    },
    {
     "name": "stderr",
     "output_type": "stream",
     "text": [
      "Epoch 14/20: 100%|██████████| 19/19 [00:03<00:00,  5.45it/s, accuracy=0.969, loss=6.9] \n"
     ]
    },
    {
     "name": "stdout",
     "output_type": "stream",
     "text": [
      "Epoch 14/20: Validation accuracy: 0.453125\n"
     ]
    },
    {
     "name": "stderr",
     "output_type": "stream",
     "text": [
      "Epoch 15/20: 100%|██████████| 19/19 [00:03<00:00,  4.95it/s, accuracy=1, loss=6.42]    \n"
     ]
    },
    {
     "name": "stdout",
     "output_type": "stream",
     "text": [
      "Epoch 15/20: Validation accuracy: 0.4453125\n"
     ]
    },
    {
     "name": "stderr",
     "output_type": "stream",
     "text": [
      "Epoch 16/20: 100%|██████████| 19/19 [00:03<00:00,  5.45it/s, accuracy=1, loss=9.74]    \n"
     ]
    },
    {
     "name": "stdout",
     "output_type": "stream",
     "text": [
      "Epoch 16/20: Validation accuracy: 0.4453125\n"
     ]
    },
    {
     "name": "stderr",
     "output_type": "stream",
     "text": [
      "Epoch 17/20: 100%|██████████| 19/19 [00:03<00:00,  5.43it/s, accuracy=0.969, loss=5.04]\n"
     ]
    },
    {
     "name": "stdout",
     "output_type": "stream",
     "text": [
      "Epoch 17/20: Validation accuracy: 0.453125\n"
     ]
    },
    {
     "name": "stderr",
     "output_type": "stream",
     "text": [
      "Epoch 18/20: 100%|██████████| 19/19 [00:03<00:00,  5.46it/s, accuracy=1, loss=8.53]    \n"
     ]
    },
    {
     "name": "stdout",
     "output_type": "stream",
     "text": [
      "Epoch 18/20: Validation accuracy: 0.4375\n"
     ]
    },
    {
     "name": "stderr",
     "output_type": "stream",
     "text": [
      "Epoch 19/20: 100%|██████████| 19/19 [00:03<00:00,  5.44it/s, accuracy=1, loss=7.46]    \n"
     ]
    },
    {
     "name": "stdout",
     "output_type": "stream",
     "text": [
      "Epoch 19/20: Validation accuracy: 0.4375\n"
     ]
    },
    {
     "name": "stderr",
     "output_type": "stream",
     "text": [
      "Epoch 20/20: 100%|██████████| 19/19 [00:03<00:00,  5.42it/s, accuracy=1, loss=7.26]    \n"
     ]
    },
    {
     "name": "stdout",
     "output_type": "stream",
     "text": [
      "Epoch 20/20: Validation accuracy: 0.4453125\n"
     ]
    },
    {
     "name": "stderr",
     "output_type": "stream",
     "text": [
      "Epoch 1/30: 100%|██████████| 19/19 [00:09<00:00,  1.98it/s, accuracy=0.969, loss=11.5]\n"
     ]
    },
    {
     "name": "stdout",
     "output_type": "stream",
     "text": [
      "Epoch 1/30: Validation accuracy: 0.453125\n"
     ]
    },
    {
     "name": "stderr",
     "output_type": "stream",
     "text": [
      "Epoch 2/30: 100%|██████████| 19/19 [00:09<00:00,  1.99it/s, accuracy=1, loss=9.67]    \n"
     ]
    },
    {
     "name": "stdout",
     "output_type": "stream",
     "text": [
      "Epoch 2/30: Validation accuracy: 0.453125\n"
     ]
    },
    {
     "name": "stderr",
     "output_type": "stream",
     "text": [
      "Epoch 3/30: 100%|██████████| 19/19 [00:09<00:00,  1.99it/s, accuracy=1, loss=10.1]    \n"
     ]
    },
    {
     "name": "stdout",
     "output_type": "stream",
     "text": [
      "Epoch 3/30: Validation accuracy: 0.4609375\n"
     ]
    },
    {
     "name": "stderr",
     "output_type": "stream",
     "text": [
      "Epoch 4/30: 100%|██████████| 19/19 [00:09<00:00,  1.99it/s, accuracy=0.969, loss=14.4]\n"
     ]
    },
    {
     "name": "stdout",
     "output_type": "stream",
     "text": [
      "Epoch 4/30: Validation accuracy: 0.4453125\n"
     ]
    },
    {
     "name": "stderr",
     "output_type": "stream",
     "text": [
      "Epoch 5/30: 100%|██████████| 19/19 [00:09<00:00,  1.99it/s, accuracy=0.969, loss=8.44]\n"
     ]
    },
    {
     "name": "stdout",
     "output_type": "stream",
     "text": [
      "Epoch 5/30: Validation accuracy: 0.453125\n"
     ]
    },
    {
     "name": "stderr",
     "output_type": "stream",
     "text": [
      "Epoch 6/30: 100%|██████████| 19/19 [00:09<00:00,  1.99it/s, accuracy=1, loss=5.91]    \n"
     ]
    },
    {
     "name": "stdout",
     "output_type": "stream",
     "text": [
      "Epoch 6/30: Validation accuracy: 0.4453125\n"
     ]
    },
    {
     "name": "stderr",
     "output_type": "stream",
     "text": [
      "Epoch 7/30: 100%|██████████| 19/19 [00:09<00:00,  1.98it/s, accuracy=1, loss=3.75]    \n"
     ]
    },
    {
     "name": "stdout",
     "output_type": "stream",
     "text": [
      "Epoch 7/30: Validation accuracy: 0.4296875\n"
     ]
    },
    {
     "name": "stderr",
     "output_type": "stream",
     "text": [
      "Epoch 8/30: 100%|██████████| 19/19 [00:09<00:00,  1.98it/s, accuracy=1, loss=8.11]    \n"
     ]
    },
    {
     "name": "stdout",
     "output_type": "stream",
     "text": [
      "Epoch 8/30: Validation accuracy: 0.46875\n"
     ]
    },
    {
     "name": "stderr",
     "output_type": "stream",
     "text": [
      "Epoch 9/30: 100%|██████████| 19/19 [00:09<00:00,  1.97it/s, accuracy=1, loss=6.28]     \n"
     ]
    },
    {
     "name": "stdout",
     "output_type": "stream",
     "text": [
      "Epoch 9/30: Validation accuracy: 0.484375\n"
     ]
    },
    {
     "name": "stderr",
     "output_type": "stream",
     "text": [
      "Epoch 10/30: 100%|██████████| 19/19 [00:09<00:00,  1.98it/s, accuracy=1, loss=5.86]    \n"
     ]
    },
    {
     "name": "stdout",
     "output_type": "stream",
     "text": [
      "Epoch 10/30: Validation accuracy: 0.46875\n"
     ]
    },
    {
     "name": "stderr",
     "output_type": "stream",
     "text": [
      "Epoch 11/30: 100%|██████████| 19/19 [00:09<00:00,  1.99it/s, accuracy=1, loss=3.45]    \n"
     ]
    },
    {
     "name": "stdout",
     "output_type": "stream",
     "text": [
      "Epoch 11/30: Validation accuracy: 0.4765625\n"
     ]
    },
    {
     "name": "stderr",
     "output_type": "stream",
     "text": [
      "Epoch 12/30: 100%|██████████| 19/19 [00:09<00:00,  1.98it/s, accuracy=0.969, loss=5.17] \n"
     ]
    },
    {
     "name": "stdout",
     "output_type": "stream",
     "text": [
      "Epoch 12/30: Validation accuracy: 0.4765625\n"
     ]
    },
    {
     "name": "stderr",
     "output_type": "stream",
     "text": [
      "Epoch 13/30: 100%|██████████| 19/19 [00:09<00:00,  1.98it/s, accuracy=1, loss=4.83]   \n"
     ]
    },
    {
     "name": "stdout",
     "output_type": "stream",
     "text": [
      "Epoch 13/30: Validation accuracy: 0.4765625\n"
     ]
    },
    {
     "name": "stderr",
     "output_type": "stream",
     "text": [
      "Epoch 14/30: 100%|██████████| 19/19 [00:09<00:00,  1.99it/s, accuracy=0.969, loss=2.51]\n"
     ]
    },
    {
     "name": "stdout",
     "output_type": "stream",
     "text": [
      "Epoch 14/30: Validation accuracy: 0.46875\n"
     ]
    },
    {
     "name": "stderr",
     "output_type": "stream",
     "text": [
      "Epoch 15/30: 100%|██████████| 19/19 [00:09<00:00,  1.99it/s, accuracy=1, loss=1.44]    \n"
     ]
    },
    {
     "name": "stdout",
     "output_type": "stream",
     "text": [
      "Epoch 15/30: Validation accuracy: 0.4765625\n"
     ]
    },
    {
     "name": "stderr",
     "output_type": "stream",
     "text": [
      "Epoch 16/30: 100%|██████████| 19/19 [00:09<00:00,  1.98it/s, accuracy=1, loss=4.88]    \n"
     ]
    },
    {
     "name": "stdout",
     "output_type": "stream",
     "text": [
      "Epoch 16/30: Validation accuracy: 0.46875\n"
     ]
    },
    {
     "name": "stderr",
     "output_type": "stream",
     "text": [
      "Epoch 17/30: 100%|██████████| 19/19 [00:09<00:00,  1.98it/s, accuracy=0.969, loss=4.23]\n"
     ]
    },
    {
     "name": "stdout",
     "output_type": "stream",
     "text": [
      "Epoch 17/30: Validation accuracy: 0.453125\n"
     ]
    },
    {
     "name": "stderr",
     "output_type": "stream",
     "text": [
      "Epoch 18/30: 100%|██████████| 19/19 [00:09<00:00,  1.99it/s, accuracy=1, loss=1.44]     \n"
     ]
    },
    {
     "name": "stdout",
     "output_type": "stream",
     "text": [
      "Epoch 18/30: Validation accuracy: 0.46875\n"
     ]
    },
    {
     "name": "stderr",
     "output_type": "stream",
     "text": [
      "Epoch 19/30: 100%|██████████| 19/19 [00:09<00:00,  1.98it/s, accuracy=0.969, loss=2.8]  \n"
     ]
    },
    {
     "name": "stdout",
     "output_type": "stream",
     "text": [
      "Epoch 19/30: Validation accuracy: 0.4765625\n"
     ]
    },
    {
     "name": "stderr",
     "output_type": "stream",
     "text": [
      "Epoch 20/30: 100%|██████████| 19/19 [00:09<00:00,  1.99it/s, accuracy=0.969, loss=0.939]\n"
     ]
    },
    {
     "name": "stdout",
     "output_type": "stream",
     "text": [
      "Epoch 20/30: Validation accuracy: 0.484375\n"
     ]
    },
    {
     "name": "stderr",
     "output_type": "stream",
     "text": [
      "Epoch 21/30: 100%|██████████| 19/19 [00:09<00:00,  1.98it/s, accuracy=1, loss=1.91]    \n"
     ]
    },
    {
     "name": "stdout",
     "output_type": "stream",
     "text": [
      "Epoch 21/30: Validation accuracy: 0.4765625\n"
     ]
    },
    {
     "name": "stderr",
     "output_type": "stream",
     "text": [
      "Epoch 22/30: 100%|██████████| 19/19 [00:09<00:00,  1.98it/s, accuracy=1, loss=1.94]    \n"
     ]
    },
    {
     "name": "stdout",
     "output_type": "stream",
     "text": [
      "Epoch 22/30: Validation accuracy: 0.46875\n"
     ]
    },
    {
     "name": "stderr",
     "output_type": "stream",
     "text": [
      "Epoch 23/30: 100%|██████████| 19/19 [00:09<00:00,  1.98it/s, accuracy=1, loss=2.87]    \n"
     ]
    },
    {
     "name": "stdout",
     "output_type": "stream",
     "text": [
      "Epoch 23/30: Validation accuracy: 0.4609375\n"
     ]
    },
    {
     "name": "stderr",
     "output_type": "stream",
     "text": [
      "Epoch 24/30: 100%|██████████| 19/19 [00:09<00:00,  1.98it/s, accuracy=1, loss=2.34]    \n"
     ]
    },
    {
     "name": "stdout",
     "output_type": "stream",
     "text": [
      "Epoch 24/30: Validation accuracy: 0.4921875\n"
     ]
    },
    {
     "name": "stderr",
     "output_type": "stream",
     "text": [
      "Epoch 25/30: 100%|██████████| 19/19 [00:09<00:00,  1.99it/s, accuracy=0.969, loss=1.67] \n"
     ]
    },
    {
     "name": "stdout",
     "output_type": "stream",
     "text": [
      "Epoch 25/30: Validation accuracy: 0.46875\n"
     ]
    },
    {
     "name": "stderr",
     "output_type": "stream",
     "text": [
      "Epoch 26/30: 100%|██████████| 19/19 [00:09<00:00,  1.99it/s, accuracy=1, loss=0.965]    \n"
     ]
    },
    {
     "name": "stdout",
     "output_type": "stream",
     "text": [
      "Epoch 26/30: Validation accuracy: 0.46875\n"
     ]
    },
    {
     "name": "stderr",
     "output_type": "stream",
     "text": [
      "Epoch 27/30: 100%|██████████| 19/19 [00:09<00:00,  1.98it/s, accuracy=0.969, loss=7.28]\n"
     ]
    },
    {
     "name": "stdout",
     "output_type": "stream",
     "text": [
      "Epoch 27/30: Validation accuracy: 0.4765625\n"
     ]
    },
    {
     "name": "stderr",
     "output_type": "stream",
     "text": [
      "Epoch 28/30: 100%|██████████| 19/19 [00:09<00:00,  1.99it/s, accuracy=1, loss=6.03]    \n"
     ]
    },
    {
     "name": "stdout",
     "output_type": "stream",
     "text": [
      "Epoch 28/30: Validation accuracy: 0.46875\n"
     ]
    },
    {
     "name": "stderr",
     "output_type": "stream",
     "text": [
      "Epoch 29/30: 100%|██████████| 19/19 [00:09<00:00,  1.99it/s, accuracy=1, loss=0.161]    \n"
     ]
    },
    {
     "name": "stdout",
     "output_type": "stream",
     "text": [
      "Epoch 29/30: Validation accuracy: 0.46875\n"
     ]
    },
    {
     "name": "stderr",
     "output_type": "stream",
     "text": [
      "Epoch 30/30: 100%|██████████| 19/19 [00:09<00:00,  1.98it/s, accuracy=1, loss=1.35]    \n"
     ]
    },
    {
     "name": "stdout",
     "output_type": "stream",
     "text": [
      "Epoch 30/30: Validation accuracy: 0.46875\n"
     ]
    },
    {
     "name": "stderr",
     "output_type": "stream",
     "text": [
      "Evaluating: 100%|██████████| 24/24 [00:03<00:00,  6.09it/s]\n"
     ]
    },
    {
     "name": "stdout",
     "output_type": "stream",
     "text": [
      "Accuracy: 0.49088541666666663\n"
     ]
    }
   ],
   "source": [
    "import torch.optim as optim\n",
    "from torch.optim import lr_scheduler\n",
    "from tqdm import tqdm \n",
    "\n",
    "# Training function\n",
    "def train_model(model, criterion, optimizer, scheduler, num_epochs=25):\n",
    "    train_accuracy_list = []\n",
    "    val_accuracy_list = []\n",
    "    model.train()\n",
    "    for epoch in range(num_epochs):\n",
    "        running_loss = 0.0\n",
    "        with tqdm(total=len(train_loader), desc=f\"Epoch {epoch+1}/{num_epochs}\") as pbar:\n",
    "            for sample in train_loader:\n",
    "                image, label = sample\n",
    "                image, label = image.to(device), label.to(device)\n",
    "                optimizer.zero_grad()\n",
    "                outputs = model(image)\n",
    "                loss = criterion(outputs, label)\n",
    "                loss.backward()\n",
    "                optimizer.step()\n",
    "                running_loss += loss.item() * image.size(0)\n",
    "\n",
    "                # accuracy\n",
    "                _, preds = torch.max(outputs, 1)\n",
    "                corrects = torch.sum(preds == label.data)\n",
    "                accuracy = corrects.double() / image.size(0)\n",
    "                \n",
    "                # update progress bar\n",
    "                pbar.set_postfix(loss=running_loss/len(train_loader.dataset), accuracy=accuracy.item())\n",
    "                pbar.update(1)\n",
    "        train_accuracy_list.append(accuracy.item())\n",
    "\n",
    "        # validation accuracy and loss\n",
    "        model.eval()\n",
    "        corrects = 0\n",
    "        total = 0\n",
    "        val_loss = 0\n",
    "        with torch.no_grad():\n",
    "            for sample in val_loader:\n",
    "                image, label = sample\n",
    "                image, label = image.to(device), label.to(device)\n",
    "                outputs = model(image)\n",
    "                loss = criterion(outputs, label)\n",
    "                val_loss += loss.item()*image.size(0)\n",
    "                _, preds = torch.max(outputs, 1)\n",
    "                corrects += torch.sum(preds == label.data)\n",
    "                total += image.size(0)\n",
    "\n",
    "        val_accuracy = corrects.double() / total\n",
    "        val_loss = val_loss / len(val_loader.dataset)\n",
    "\n",
    "        print(f\"Epoch {epoch+1}/{num_epochs}: Validation accuracy: \\t{val_accuracy:.4f} \\t Validation loss: \\t{val_loss:.4f}\")\n",
    "        val_accuracy_list.append(val_accuracy.item())\n",
    "        model.train()\n",
    "\n",
    "        scheduler.step()\n",
    "\n",
    "    res = {\n",
    "        'model': model,\n",
    "        'train_accuracy': train_accuracy_list,\n",
    "        'val_accuracy': val_accuracy_list\n",
    "        }\n",
    "\n",
    "    return res\n",
    "\n",
    "# Freeze the weights of the pre-trained models\n",
    "# for param in model.parameters():\n",
    "#     param.requires_grad = True\n",
    "for param in model.cnn1.parameters():\n",
    "    param.requires_grad = False\n",
    "for param in model.cnn2.parameters():\n",
    "    param.requires_grad = False\n",
    "\n",
    "# Define loss function and optimizer\n",
    "criterion = nn.CrossEntropyLoss()\n",
    "optimizer = optim.SGD(model.fc.parameters(), lr=FREEZE_CONFIG['lr'], momentum=0.9)\n",
    "scheduler = lr_scheduler.StepLR(optimizer, step_size=FREEZE_CONFIG['step_lr'], gamma=0.1)\n",
    "\n",
    "# Train the model\n",
    "train_res_freeze = train_model(model, criterion, optimizer, scheduler, num_epochs=FREEZE_CONFIG['epochs'])\n",
    "model = train_res_freeze['model']\n",
    "\n",
    "# Unfreeze the weights and train again\n",
    "for param in model.parameters():\n",
    "    param.requires_grad = True\n",
    "# for param in model.cnn1.parameters():\n",
    "#     param.requires_grad = True\n",
    "# for param in model.cnn2.parameters():\n",
    "#     param.requires_grad = True\n",
    "\n",
    "optimizer = optim.SGD(model.parameters(), lr=UNFREEZE_CONFIG['lr'], momentum=0.9)\n",
    "scheduler = lr_scheduler.StepLR(optimizer, step_size=UNFREEZE_CONFIG['step_lr'], gamma=0.1)\n",
    "\n",
    "# Train the model again\n",
    "train_res_unfreeze = train_model(model, criterion, optimizer, scheduler, num_epochs=UNFREEZE_CONFIG['epochs'])\n",
    "model = train_res_unfreeze['model']\n",
    "\n",
    "# evaluate the model\n",
    "model.eval()\n",
    "corrects = 0\n",
    "total = 0\n",
    "with tqdm(total=len(test_loader), desc=f\"Evaluating\") as pbar:\n",
    "    with torch.no_grad():\n",
    "        for sample in test_loader:\n",
    "            image, label = sample\n",
    "            image, label = image.to(device), label.to(device)\n",
    "            outputs = model(image)\n",
    "            _, preds = torch.max(outputs, 1)\n",
    "            corrects += torch.sum(preds == label.data)\n",
    "            total += image.size(0)\n",
    "            pbar.update(1)\n",
    "print(f\"Test Accuracy: {corrects.double()/total}\")\n"
   ]
  },
  {
   "cell_type": "code",
   "execution_count": 9,
   "metadata": {},
   "outputs": [],
   "source": [
    "# plot the training and validation accuracy\n",
    "plt.plot(train_res_freeze['train_accuracy'], label='Train accuracy (Frozen weights)')\n",
    "plt.plot(train_res_freeze['val_accuracy'], label='Validation accuracy (Frozen weights)')\n",
    "plt.legend()\n",
    "plt.savefig('train_val_acc.png')\n",
    "plt.close()\n",
    "\n",
    "plt.plot(train_res_unfreeze['train_accuracy'], label='Train accuracy (Unfrozen weights)')\n",
    "plt.plot(train_res_unfreeze['val_accuracy'], label='Validation accuracy (Unfrozen weights)')\n",
    "plt.legend()\n",
    "plt.savefig('train_val_acc_unfreeze.png')\n",
    "plt.close()\n",
    "\n",
    "# combine frozen and unfrozen training accuracy\n",
    "train_accuracy = train_res_freeze['train_accuracy'] + train_res_unfreeze['train_accuracy']\n",
    "val_accuracy = train_res_freeze['val_accuracy'] + train_res_unfreeze['val_accuracy']\n",
    "\n",
    "plt.plot(train_accuracy, label='Train accuracy')\n",
    "plt.plot(val_accuracy, label='Validation accuracy')\n",
    "plt.legend()\n",
    "plt.savefig('train_val_acc_combined.png')\n",
    "plt.close()\n"
   ]
  },
  {
   "cell_type": "code",
   "execution_count": null,
   "metadata": {},
   "outputs": [],
   "source": []
  },
  {
   "cell_type": "code",
   "execution_count": null,
   "metadata": {},
   "outputs": [],
   "source": [
    "# bilinear pooling with einops\n",
    "# x1 = rearrange(x1, 'b k h w -> b k (h w)')\n",
    "# x2 = rearrange(x2, 'b k h w -> b k (h w)')\n",
    "# x = einsum('b i j, b k j -> b i k', x1, x2)\n"
   ]
  },
  {
   "cell_type": "code",
   "execution_count": null,
   "metadata": {},
   "outputs": [],
   "source": []
  }
 ],
 "metadata": {
  "kernelspec": {
   "display_name": "ai",
   "language": "python",
   "name": "python3"
  },
  "language_info": {
   "codemirror_mode": {
    "name": "ipython",
    "version": 3
   },
   "file_extension": ".py",
   "mimetype": "text/x-python",
   "name": "python",
   "nbconvert_exporter": "python",
   "pygments_lexer": "ipython3",
   "version": "3.9.7"
  }
 },
 "nbformat": 4,
 "nbformat_minor": 2
}
